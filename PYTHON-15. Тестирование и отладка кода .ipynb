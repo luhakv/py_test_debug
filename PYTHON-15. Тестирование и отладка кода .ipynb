{
 "cells": [
  {
   "cell_type": "markdown",
   "metadata": {},
   "source": [
    "## Юнит 7. Основные алгоритмы машинного обучения. Часть II \n",
    "### Skillfactory: DSPR-19\n",
    "### PYTHON-15. Тестирование и отладка кода "
   ]
  },
  {
   "cell_type": "markdown",
   "metadata": {},
   "source": [
    "### Задание 1\n",
    "```python\n",
    "Напишие текст, который выведется на последней строке при исполнении программы:\n",
    "\n",
    "def preprocess_data(data, mode):\n",
    "    if mode == \"to_number\":\n",
    "        return [float(value) for value in data]\n",
    "    elif mode == \"to_str\":\n",
    "        return [str(value) for value in data]\n",
    "    else:\n",
    "        raise ValueError(\"Incorrect mode\")\n",
    "        \n",
    "preprocess_data({\"price\": 100}, \"to_array\")\n",
    "```\n"
   ]
  },
  {
   "cell_type": "code",
   "execution_count": 3,
   "metadata": {},
   "outputs": [
    {
     "ename": "ValueError",
     "evalue": "Incorrect mode",
     "output_type": "error",
     "traceback": [
      "\u001b[0;31m---------------------------------------------------------------------------\u001b[0m",
      "\u001b[0;31mValueError\u001b[0m                                Traceback (most recent call last)",
      "\u001b[0;32m<ipython-input-3-463677257018>\u001b[0m in \u001b[0;36m<module>\u001b[0;34m\u001b[0m\n\u001b[1;32m      7\u001b[0m         \u001b[0;32mraise\u001b[0m \u001b[0mValueError\u001b[0m\u001b[0;34m(\u001b[0m\u001b[0;34m\"Incorrect mode\"\u001b[0m\u001b[0;34m)\u001b[0m\u001b[0;34m\u001b[0m\u001b[0;34m\u001b[0m\u001b[0m\n\u001b[1;32m      8\u001b[0m \u001b[0;34m\u001b[0m\u001b[0m\n\u001b[0;32m----> 9\u001b[0;31m \u001b[0mpreprocess_data\u001b[0m\u001b[0;34m(\u001b[0m\u001b[0;34m{\u001b[0m\u001b[0;34m\"price\"\u001b[0m\u001b[0;34m:\u001b[0m \u001b[0;36m100\u001b[0m\u001b[0;34m}\u001b[0m\u001b[0;34m,\u001b[0m \u001b[0;34m\"to_array\"\u001b[0m\u001b[0;34m)\u001b[0m\u001b[0;34m\u001b[0m\u001b[0;34m\u001b[0m\u001b[0m\n\u001b[0m",
      "\u001b[0;32m<ipython-input-3-463677257018>\u001b[0m in \u001b[0;36mpreprocess_data\u001b[0;34m(data, mode)\u001b[0m\n\u001b[1;32m      5\u001b[0m         \u001b[0;32mreturn\u001b[0m \u001b[0;34m[\u001b[0m\u001b[0mstr\u001b[0m\u001b[0;34m(\u001b[0m\u001b[0mvalue\u001b[0m\u001b[0;34m)\u001b[0m \u001b[0;32mfor\u001b[0m \u001b[0mvalue\u001b[0m \u001b[0;32min\u001b[0m \u001b[0mdata\u001b[0m\u001b[0;34m]\u001b[0m\u001b[0;34m\u001b[0m\u001b[0;34m\u001b[0m\u001b[0m\n\u001b[1;32m      6\u001b[0m     \u001b[0;32melse\u001b[0m\u001b[0;34m:\u001b[0m\u001b[0;34m\u001b[0m\u001b[0;34m\u001b[0m\u001b[0m\n\u001b[0;32m----> 7\u001b[0;31m         \u001b[0;32mraise\u001b[0m \u001b[0mValueError\u001b[0m\u001b[0;34m(\u001b[0m\u001b[0;34m\"Incorrect mode\"\u001b[0m\u001b[0;34m)\u001b[0m\u001b[0;34m\u001b[0m\u001b[0;34m\u001b[0m\u001b[0m\n\u001b[0m\u001b[1;32m      8\u001b[0m \u001b[0;34m\u001b[0m\u001b[0m\n\u001b[1;32m      9\u001b[0m \u001b[0mpreprocess_data\u001b[0m\u001b[0;34m(\u001b[0m\u001b[0;34m{\u001b[0m\u001b[0;34m\"price\"\u001b[0m\u001b[0;34m:\u001b[0m \u001b[0;36m100\u001b[0m\u001b[0;34m}\u001b[0m\u001b[0;34m,\u001b[0m \u001b[0;34m\"to_array\"\u001b[0m\u001b[0;34m)\u001b[0m\u001b[0;34m\u001b[0m\u001b[0;34m\u001b[0m\u001b[0m\n",
      "\u001b[0;31mValueError\u001b[0m: Incorrect mode"
     ]
    }
   ],
   "source": [
    "def preprocess_data(data, mode):\n",
    "    if mode == \"to_number\":\n",
    "        return [float(value) for value in data]\n",
    "    elif mode == \"to_str\":\n",
    "        return [str(value) for value in data]\n",
    "    else:\n",
    "        raise ValueError(\"Incorrect mode\")\n",
    "        \n",
    "preprocess_data({\"price\": 100}, \"to_array\")"
   ]
  },
  {
   "cell_type": "markdown",
   "metadata": {},
   "source": [
    "### Задание 2\n",
    "Определите функцию `check_server`, которая принимает на вход переменную `mode`.\n",
    "\n",
    "- Если mode имеет значение \"memory\", программа должна вернуть строку \"Memory is ok\".\n",
    "- Если mode имеет значение \"connection\", программа должна вернуть строку \"Connection is ok\".\n",
    "- Для остальных случае программа должна выбросить исключение ValueError."
   ]
  },
  {
   "cell_type": "code",
   "execution_count": null,
   "metadata": {},
   "outputs": [],
   "source": [
    "def check_server(mode):\n",
    "    if mode == 'memory':\n",
    "        return \"Memory is ok\"\n",
    "    elif mode == 'connection':\n",
    "        return \"Connection is ok\"\n",
    "    else:\n",
    "        raise ValueError()"
   ]
  },
  {
   "cell_type": "code",
   "execution_count": 4,
   "metadata": {},
   "outputs": [
    {
     "ename": "NameError",
     "evalue": "name 'check_server' is not defined",
     "output_type": "error",
     "traceback": [
      "\u001b[0;31m---------------------------------------------------------------------------\u001b[0m",
      "\u001b[0;31mNameError\u001b[0m                                 Traceback (most recent call last)",
      "\u001b[0;32m<ipython-input-4-5895c31a237c>\u001b[0m in \u001b[0;36m<module>\u001b[0;34m\u001b[0m\n\u001b[0;32m----> 1\u001b[0;31m \u001b[0mcheck_server\u001b[0m\u001b[0;34m(\u001b[0m\u001b[0;34m'mem'\u001b[0m\u001b[0;34m)\u001b[0m\u001b[0;34m\u001b[0m\u001b[0;34m\u001b[0m\u001b[0m\n\u001b[0m",
      "\u001b[0;31mNameError\u001b[0m: name 'check_server' is not defined"
     ]
    }
   ],
   "source": [
    "check_server('mem')"
   ]
  },
  {
   "cell_type": "markdown",
   "metadata": {},
   "source": [
    "### 2.6 Обработка исключений"
   ]
  },
  {
   "cell_type": "code",
   "execution_count": 5,
   "metadata": {},
   "outputs": [
    {
     "name": "stdout",
     "output_type": "stream",
     "text": [
      "Oops, key not found\n",
      "End of program\n"
     ]
    }
   ],
   "source": [
    "dictionary = {}  \n",
    "try:  \n",
    "    dictionary[\"no_key\"]  \n",
    "except:  \n",
    "    print(\"Oops, key not found\")  \n",
    "  \n",
    "print(\"End of program\")  \n",
    "# => Oops, key not found  \n",
    "# => End of program  "
   ]
  },
  {
   "cell_type": "code",
   "execution_count": 6,
   "metadata": {},
   "outputs": [
    {
     "name": "stdout",
     "output_type": "stream",
     "text": [
      "Inside try block\n"
     ]
    }
   ],
   "source": [
    "try:\n",
    "    print(\"Inside try block\")\n",
    "except:\n",
    "    print(\"Inside except block\")"
   ]
  },
  {
   "cell_type": "code",
   "execution_count": 7,
   "metadata": {},
   "outputs": [
    {
     "name": "stdout",
     "output_type": "stream",
     "text": [
      "Inside except block\n"
     ]
    }
   ],
   "source": [
    "try:\n",
    "    4 + \"b\"\n",
    "    print(\"Inside try block\")\n",
    "except:\n",
    "    print(\"Inside except block\")"
   ]
  },
  {
   "cell_type": "markdown",
   "metadata": {},
   "source": [
    "### 2.7 Осознанная обработка исключений\n"
   ]
  },
  {
   "cell_type": "markdown",
   "metadata": {},
   "source": [
    "### Задание\n",
    "Почему нужно указывать конкретное исключение в try-except?\n",
    "\n",
    "Ответ:  \n",
    "- Чтобы исключение отрабатывалось корректным отработчиком\n",
    "- Чтобы не пропустить случайно исключение, про которое мы не знаем\n"
   ]
  },
  {
   "cell_type": "markdown",
   "metadata": {},
   "source": [
    "### 2.8 Иерархия исключений\n"
   ]
  },
  {
   "cell_type": "code",
   "execution_count": 8,
   "metadata": {},
   "outputs": [
    {
     "name": "stdout",
     "output_type": "stream",
     "text": [
      "Key or index not found\n",
      "Key or index not found\n"
     ]
    }
   ],
   "source": [
    "# Напишем функцию, которая может обращаться и к спискам, и к словарям  \n",
    "# при этом не выбрасывая исключение для несуществующих индексов/ключей   \n",
    "def safe_element(collection, place):  \n",
    "    try:  \n",
    "        return(collection[place])  \n",
    "    except LookupError:  \n",
    "        print(\"Key or index not found\")  \n",
    "  \n",
    "users = [\"Pavel\", \"Elena\", \"Sergey\"]  \n",
    "safe_element(users, 1)  \n",
    "# => 'Elena'  \n",
    "safe_element(users, 3)  \n",
    "# => 'Key or index not found'   \n",
    "  \n",
    "prices = {\"apple\": 10, \"orange\": 20}  \n",
    "safe_element(prices, \"apple\")  \n",
    "# => 10  \n",
    "safe_element(prices, \"carrot\")  \n",
    "# => 'Key or index not found'  "
   ]
  },
  {
   "cell_type": "markdown",
   "metadata": {},
   "source": [
    "### Задание 2\n",
    "Напишите программу, которая реализует безопасное сложение двух объектов x и y.\n",
    "\n",
    "Если объекты не могут быть сложены, функция должна:\n",
    "\n",
    "- Отловить TypeError\n",
    "- Вывести на экран \"Can't sum x and y\", где x и y - переданные числа\n",
    "- Вернуть 0\n",
    "\n",
    "```\n",
    "safe_sum(1, 2)\n",
    "#=> 3\n",
    "\n",
    "safe_sum(5, 'a')\n",
    "# => Can't sum 5 and a\n",
    "# 0 \n",
    "```"
   ]
  },
  {
   "cell_type": "code",
   "execution_count": 9,
   "metadata": {},
   "outputs": [],
   "source": [
    "def safe_sum(x,y):\n",
    "    try:\n",
    "        return x + y\n",
    "    except TypeError:\n",
    "        print(f\"Can't sum {x} and {y}\")\n",
    "        return 0"
   ]
  },
  {
   "cell_type": "code",
   "execution_count": 10,
   "metadata": {},
   "outputs": [
    {
     "name": "stdout",
     "output_type": "stream",
     "text": [
      "Can't sum 5 and !\n"
     ]
    },
    {
     "data": {
      "text/plain": [
       "0"
      ]
     },
     "execution_count": 10,
     "metadata": {},
     "output_type": "execute_result"
    }
   ],
   "source": [
    "safe_sum(5,'!')"
   ]
  },
  {
   "cell_type": "markdown",
   "metadata": {},
   "source": [
    "### 9. Детали try-except\n",
    "Мы рассмотрели базовый синтаксис try-except, однако у него есть ещё несколько вариаций. Они не часто встречаются на практике, но мы о них расскажем. Иногда в блоке except нам нужен доступ к самому объекту исключения, например, мы хотим получить поясняющее сообщение и вывести его на экран, но при этом продолжить программу дальше. Мы можем это сделать с помощью ключевого слова 'as', за которым идёт имя новой переменной.\n"
   ]
  },
  {
   "cell_type": "code",
   "execution_count": 11,
   "metadata": {},
   "outputs": [
    {
     "name": "stdout",
     "output_type": "stream",
     "text": [
      "division by zero\n",
      "Program ends correctly\n"
     ]
    }
   ],
   "source": [
    "try:  \n",
    "    5/0  \n",
    "except ZeroDivisionError as zero_error:  \n",
    "    # здесь в zero_error мы получаем сам объект исключения  \n",
    "    # print как раз выведет его поясняющее сообщение  \n",
    "    print(zero_error)  \n",
    "  \n",
    "print(\"Program ends correctly\")  \n",
    "  \n",
    "# => division by zero  \n",
    "# => Program ends correctly  "
   ]
  },
  {
   "cell_type": "markdown",
   "metadata": {},
   "source": [
    "Ещё один распространённый подход: мы совершаем какое-то промежуточное действие, а потом перевыбрасываем исключение.\n",
    "\n"
   ]
  },
  {
   "cell_type": "code",
   "execution_count": 12,
   "metadata": {},
   "outputs": [
    {
     "name": "stdout",
     "output_type": "stream",
     "text": [
      "Mail to administrator has been sent about invalid literal for int() with base 10: 'poem'\n"
     ]
    },
    {
     "ename": "ValueError",
     "evalue": "invalid literal for int() with base 10: 'poem'",
     "output_type": "error",
     "traceback": [
      "\u001b[0;31m---------------------------------------------------------------------------\u001b[0m",
      "\u001b[0;31mValueError\u001b[0m                                Traceback (most recent call last)",
      "\u001b[0;32m<ipython-input-12-c90e527e0ceb>\u001b[0m in \u001b[0;36m<module>\u001b[0;34m\u001b[0m\n\u001b[1;32m      8\u001b[0m \u001b[0;32mexcept\u001b[0m \u001b[0mValueError\u001b[0m \u001b[0;32mas\u001b[0m \u001b[0mdigitized_error\u001b[0m\u001b[0;34m:\u001b[0m\u001b[0;34m\u001b[0m\u001b[0;34m\u001b[0m\u001b[0m\n\u001b[1;32m      9\u001b[0m     \u001b[0mnotify_admin\u001b[0m\u001b[0;34m(\u001b[0m\u001b[0mdigitized_error\u001b[0m\u001b[0;34m)\u001b[0m\u001b[0;34m\u001b[0m\u001b[0;34m\u001b[0m\u001b[0m\n\u001b[0;32m---> 10\u001b[0;31m     \u001b[0;32mraise\u001b[0m \u001b[0mdigitized_error\u001b[0m\u001b[0;34m\u001b[0m\u001b[0;34m\u001b[0m\u001b[0m\n\u001b[0m\u001b[1;32m     11\u001b[0m \u001b[0;34m\u001b[0m\u001b[0m\n\u001b[1;32m     12\u001b[0m \u001b[0;31m# => Mail to administrator has been sent about invalid literal for int() with base 10: 'poem'\u001b[0m\u001b[0;34m\u001b[0m\u001b[0;34m\u001b[0m\u001b[0;34m\u001b[0m\u001b[0m\n",
      "\u001b[0;32m<ipython-input-12-c90e527e0ceb>\u001b[0m in \u001b[0;36m<module>\u001b[0;34m\u001b[0m\n\u001b[1;32m      5\u001b[0m \u001b[0mvalue\u001b[0m \u001b[0;34m=\u001b[0m \u001b[0;34m\"poem\"\u001b[0m\u001b[0;34m\u001b[0m\u001b[0;34m\u001b[0m\u001b[0m\n\u001b[1;32m      6\u001b[0m \u001b[0;32mtry\u001b[0m\u001b[0;34m:\u001b[0m\u001b[0;34m\u001b[0m\u001b[0;34m\u001b[0m\u001b[0m\n\u001b[0;32m----> 7\u001b[0;31m     \u001b[0mdigitized\u001b[0m \u001b[0;34m=\u001b[0m \u001b[0mint\u001b[0m\u001b[0;34m(\u001b[0m\u001b[0mvalue\u001b[0m\u001b[0;34m)\u001b[0m\u001b[0;34m\u001b[0m\u001b[0;34m\u001b[0m\u001b[0m\n\u001b[0m\u001b[1;32m      8\u001b[0m \u001b[0;32mexcept\u001b[0m \u001b[0mValueError\u001b[0m \u001b[0;32mas\u001b[0m \u001b[0mdigitized_error\u001b[0m\u001b[0;34m:\u001b[0m\u001b[0;34m\u001b[0m\u001b[0;34m\u001b[0m\u001b[0m\n\u001b[1;32m      9\u001b[0m     \u001b[0mnotify_admin\u001b[0m\u001b[0;34m(\u001b[0m\u001b[0mdigitized_error\u001b[0m\u001b[0;34m)\u001b[0m\u001b[0;34m\u001b[0m\u001b[0;34m\u001b[0m\u001b[0m\n",
      "\u001b[0;31mValueError\u001b[0m: invalid literal for int() with base 10: 'poem'"
     ]
    }
   ],
   "source": [
    "# Пусть у нас есть функция, которая шлёт емейл разработчику об ошибке  \n",
    "def notify_admin(error):  \n",
    "    print(\"Mail to administrator has been sent about\", error)  \n",
    "      \n",
    "value = \"poem\"  \n",
    "try:  \n",
    "    digitized = int(value)  \n",
    "except ValueError as digitized_error:  \n",
    "    notify_admin(digitized_error)  \n",
    "    raise digitized_error  \n",
    "      \n",
    "# => Mail to administrator has been sent about invalid literal for int() with base 10: 'poem'  \n",
    "# ---------------------------------------------------------------------------  \n",
    "# ValueError                                Traceback (most recent call last)  \n",
    "# <ipython-input-121-3fd4cd869d2d> in <module>  \n",
    "#       8 except ValueError as digitized_error:  \n",
    "#       9     notify_admin(digitized_error)  \n",
    "# ---> 10     raise digitized_error  \n",
    "#      11   \n",
    "#      12   \n",
    "  \n",
    "# <ipython-input-121-3fd4cd869d2d> in <module>  \n",
    "#       5 value = \"poem\"  \n",
    "#       6 try:  \n",
    "# ----> 7     digitized = int(value)  \n",
    "#       8 except ValueError as digitized_error:  \n",
    "#       9     notify_admin(digitized_error)  \n",
    "  \n",
    "# ValueError: invalid literal for int() with base 10: 'poem'  \n"
   ]
  },
  {
   "cell_type": "markdown",
   "metadata": {},
   "source": [
    "Обратите внимание, что в начале ошибки есть уведомление о том, что email отправлен. Еще одна полезная функция: для одного try вы можете писать сразу много except на разные исключения."
   ]
  },
  {
   "cell_type": "code",
   "execution_count": 13,
   "metadata": {},
   "outputs": [
    {
     "name": "stdout",
     "output_type": "stream",
     "text": [
      "OS error: [Errno 2] No such file or directory: 'valuble_data.txt'\n"
     ]
    }
   ],
   "source": [
    "try:  \n",
    "    # открываем файл и считываем строку  \n",
    "    data_file = open(\"valuble_data.txt\")  \n",
    "    s = data_file.readline()  \n",
    "    # пробуем преобразовать её в число  \n",
    "    i = float(s.strip())  \n",
    "except OSError as err:  \n",
    "    # если файла нет или его не удаётся прочитать, мы получил ошибку операционной системы   \n",
    "    print(\"OS error: {0}\".format(err))  \n",
    "except ValueError:  \n",
    "    # если данные не преобразуется в число, мы получим ValueError  \n",
    "    print(\"Could not convert data to float\")  \n",
    "  \n",
    "# => OS error: [Errno 2] No such file or directory: 'valuble_data.txt'  "
   ]
  },
  {
   "cell_type": "markdown",
   "metadata": {},
   "source": [
    "У try-except есть блоки else и finally; первый выполняется в случае, если мы не встретили исключение в try, и используется в основном для написания чуть более чистого кода. Finally выполняется в любом случае, даже если возникло непредвиденное исключение или выход с помощью return. Обычно используется для корректного освобождения ресурсов, например, закрытия файлов.\n",
    "\n",
    "Надеемся, что система исключения для вас стала более понятной, и вы сможете более свободно работать с ошибками."
   ]
  },
  {
   "cell_type": "markdown",
   "metadata": {},
   "source": [
    "### 10. Отладка: введение\n"
   ]
  },
  {
   "cell_type": "markdown",
   "metadata": {},
   "source": [
    "В этом разделе мы обсудим подходы, которые помогают быстрее найти и исправить ошибки. Приведённые методы хорошо зарекомендовали себя на практике. Тем не менее единого метода, который бы работал всегда, нет, и разнообразие видов ошибок превращает отладку в настоящее искусство. Научиться определять необходимый метод вы сможете со временем.\n",
    "\n",
    "Ошибки можно условно поделить на два класса:\n",
    "\n",
    "явные, которые выбрасывают исключение;\n",
    "неявные (баги): программа формально работает, но есть какой-то изъян в логике, так что вы получаете не то, что хотели.\n",
    "Для примеров в этом разделе мы будем использовать датасет о фильмах с imdb. В датасете указана основная информация: сборы, год выпуска и т.д."
   ]
  },
  {
   "cell_type": "code",
   "execution_count": 2,
   "metadata": {},
   "outputs": [],
   "source": [
    "import pandas as pd"
   ]
  },
  {
   "cell_type": "code",
   "execution_count": 3,
   "metadata": {},
   "outputs": [],
   "source": [
    "data = pd.read_csv('imdb.csv')"
   ]
  },
  {
   "cell_type": "code",
   "execution_count": 3,
   "metadata": {},
   "outputs": [
    {
     "data": {
      "text/html": [
       "<div>\n",
       "<style scoped>\n",
       "    .dataframe tbody tr th:only-of-type {\n",
       "        vertical-align: middle;\n",
       "    }\n",
       "\n",
       "    .dataframe tbody tr th {\n",
       "        vertical-align: top;\n",
       "    }\n",
       "\n",
       "    .dataframe thead th {\n",
       "        text-align: right;\n",
       "    }\n",
       "</style>\n",
       "<table border=\"1\" class=\"dataframe\">\n",
       "  <thead>\n",
       "    <tr style=\"text-align: right;\">\n",
       "      <th></th>\n",
       "      <th>Rank</th>\n",
       "      <th>Title</th>\n",
       "      <th>Genre</th>\n",
       "      <th>Description</th>\n",
       "      <th>Director</th>\n",
       "      <th>Actors</th>\n",
       "      <th>Year</th>\n",
       "      <th>Runtime (Minutes)</th>\n",
       "      <th>Rating</th>\n",
       "      <th>Votes</th>\n",
       "      <th>Revenue (Millions)</th>\n",
       "      <th>Metascore</th>\n",
       "    </tr>\n",
       "  </thead>\n",
       "  <tbody>\n",
       "    <tr>\n",
       "      <th>0</th>\n",
       "      <td>1</td>\n",
       "      <td>Guardians of the Galaxy</td>\n",
       "      <td>Action,Adventure,Sci-Fi</td>\n",
       "      <td>A group of intergalactic criminals are forced ...</td>\n",
       "      <td>James Gunn</td>\n",
       "      <td>Chris Pratt, Vin Diesel, Bradley Cooper, Zoe S...</td>\n",
       "      <td>2014</td>\n",
       "      <td>121</td>\n",
       "      <td>8.1</td>\n",
       "      <td>757074</td>\n",
       "      <td>333.13</td>\n",
       "      <td>76.0</td>\n",
       "    </tr>\n",
       "    <tr>\n",
       "      <th>1</th>\n",
       "      <td>2</td>\n",
       "      <td>Prometheus</td>\n",
       "      <td>Adventure,Mystery,Sci-Fi</td>\n",
       "      <td>Following clues to the origin of mankind, a te...</td>\n",
       "      <td>Ridley Scott</td>\n",
       "      <td>Noomi Rapace, Logan Marshall-Green, Michael Fa...</td>\n",
       "      <td>2012</td>\n",
       "      <td>124</td>\n",
       "      <td>7.0</td>\n",
       "      <td>485820</td>\n",
       "      <td>126.46</td>\n",
       "      <td>65.0</td>\n",
       "    </tr>\n",
       "    <tr>\n",
       "      <th>2</th>\n",
       "      <td>3</td>\n",
       "      <td>Split</td>\n",
       "      <td>Horror,Thriller</td>\n",
       "      <td>Three girls are kidnapped by a man with a diag...</td>\n",
       "      <td>M. Night Shyamalan</td>\n",
       "      <td>James McAvoy, Anya Taylor-Joy, Haley Lu Richar...</td>\n",
       "      <td>2016</td>\n",
       "      <td>117</td>\n",
       "      <td>7.3</td>\n",
       "      <td>157606</td>\n",
       "      <td>138.12</td>\n",
       "      <td>62.0</td>\n",
       "    </tr>\n",
       "    <tr>\n",
       "      <th>3</th>\n",
       "      <td>4</td>\n",
       "      <td>Sing</td>\n",
       "      <td>Animation,Comedy,Family</td>\n",
       "      <td>In a city of humanoid animals, a hustling thea...</td>\n",
       "      <td>Christophe Lourdelet</td>\n",
       "      <td>Matthew McConaughey,Reese Witherspoon, Seth Ma...</td>\n",
       "      <td>2016</td>\n",
       "      <td>108</td>\n",
       "      <td>7.2</td>\n",
       "      <td>60545</td>\n",
       "      <td>270.32</td>\n",
       "      <td>59.0</td>\n",
       "    </tr>\n",
       "    <tr>\n",
       "      <th>4</th>\n",
       "      <td>5</td>\n",
       "      <td>Suicide Squad</td>\n",
       "      <td>Action,Adventure,Fantasy</td>\n",
       "      <td>A secret government agency recruits some of th...</td>\n",
       "      <td>David Ayer</td>\n",
       "      <td>Will Smith, Jared Leto, Margot Robbie, Viola D...</td>\n",
       "      <td>2016</td>\n",
       "      <td>123</td>\n",
       "      <td>6.2</td>\n",
       "      <td>393727</td>\n",
       "      <td>325.02</td>\n",
       "      <td>40.0</td>\n",
       "    </tr>\n",
       "  </tbody>\n",
       "</table>\n",
       "</div>"
      ],
      "text/plain": [
       "   Rank                    Title                     Genre  \\\n",
       "0     1  Guardians of the Galaxy   Action,Adventure,Sci-Fi   \n",
       "1     2               Prometheus  Adventure,Mystery,Sci-Fi   \n",
       "2     3                    Split           Horror,Thriller   \n",
       "3     4                     Sing   Animation,Comedy,Family   \n",
       "4     5            Suicide Squad  Action,Adventure,Fantasy   \n",
       "\n",
       "                                         Description              Director  \\\n",
       "0  A group of intergalactic criminals are forced ...            James Gunn   \n",
       "1  Following clues to the origin of mankind, a te...          Ridley Scott   \n",
       "2  Three girls are kidnapped by a man with a diag...    M. Night Shyamalan   \n",
       "3  In a city of humanoid animals, a hustling thea...  Christophe Lourdelet   \n",
       "4  A secret government agency recruits some of th...            David Ayer   \n",
       "\n",
       "                                              Actors  Year  Runtime (Minutes)  \\\n",
       "0  Chris Pratt, Vin Diesel, Bradley Cooper, Zoe S...  2014                121   \n",
       "1  Noomi Rapace, Logan Marshall-Green, Michael Fa...  2012                124   \n",
       "2  James McAvoy, Anya Taylor-Joy, Haley Lu Richar...  2016                117   \n",
       "3  Matthew McConaughey,Reese Witherspoon, Seth Ma...  2016                108   \n",
       "4  Will Smith, Jared Leto, Margot Robbie, Viola D...  2016                123   \n",
       "\n",
       "   Rating   Votes  Revenue (Millions)  Metascore  \n",
       "0     8.1  757074              333.13       76.0  \n",
       "1     7.0  485820              126.46       65.0  \n",
       "2     7.3  157606              138.12       62.0  \n",
       "3     7.2   60545              270.32       59.0  \n",
       "4     6.2  393727              325.02       40.0  "
      ]
     },
     "execution_count": 3,
     "metadata": {},
     "output_type": "execute_result"
    }
   ],
   "source": [
    "data.head()"
   ]
  },
  {
   "cell_type": "markdown",
   "metadata": {},
   "source": [
    "### Задание\n",
    "В каком году вышел фильм *Suicide Squad*, информация о котором есть в датасете imdb?"
   ]
  },
  {
   "cell_type": "code",
   "execution_count": 4,
   "metadata": {},
   "outputs": [
    {
     "data": {
      "text/plain": [
       "4    2016\n",
       "Name: Year, dtype: int64"
      ]
     },
     "execution_count": 4,
     "metadata": {},
     "output_type": "execute_result"
    }
   ],
   "source": [
    "data.Year[data.Title=='Suicide Squad']"
   ]
  },
  {
   "cell_type": "markdown",
   "metadata": {},
   "source": [
    "### 11. Отладка исключений\n"
   ]
  },
  {
   "cell_type": "markdown",
   "metadata": {},
   "source": [
    "Разберёмся с явными ошибками, они гораздо проще в исправлении. Для начала нужно прочитать сообщение об ошибке: смотрим на тип исключения и поясняющее сообщение, чтобы понять природу ошибки, затем на стэк вызова, чтобы определить место, где она возникла, и само содержание строки."
   ]
  },
  {
   "cell_type": "code",
   "execution_count": 6,
   "metadata": {},
   "outputs": [
    {
     "ename": "NameError",
     "evalue": "name 'xrange' is not defined",
     "output_type": "error",
     "traceback": [
      "\u001b[0;31m---------------------------------------------------------------------------\u001b[0m",
      "\u001b[0;31mNameError\u001b[0m                                 Traceback (most recent call last)",
      "\u001b[0;32m<ipython-input-6-2609fea58ffb>\u001b[0m in \u001b[0;36m<module>\u001b[0;34m\u001b[0m\n\u001b[1;32m      6\u001b[0m     \u001b[0;31m# делаем reader, который построчно берёт данные из файла\u001b[0m\u001b[0;34m\u001b[0m\u001b[0;34m\u001b[0m\u001b[0;34m\u001b[0m\u001b[0m\n\u001b[1;32m      7\u001b[0m     \u001b[0mreader\u001b[0m \u001b[0;34m=\u001b[0m \u001b[0mcsv\u001b[0m\u001b[0;34m.\u001b[0m\u001b[0mreader\u001b[0m\u001b[0;34m(\u001b[0m\u001b[0mcsvfile\u001b[0m\u001b[0;34m)\u001b[0m\u001b[0;34m\u001b[0m\u001b[0;34m\u001b[0m\u001b[0m\n\u001b[0;32m----> 8\u001b[0;31m     \u001b[0;32mfor\u001b[0m \u001b[0mi\u001b[0m \u001b[0;32min\u001b[0m \u001b[0mxrange\u001b[0m\u001b[0;34m(\u001b[0m\u001b[0;36m5\u001b[0m\u001b[0;34m)\u001b[0m\u001b[0;34m:\u001b[0m\u001b[0;34m\u001b[0m\u001b[0;34m\u001b[0m\u001b[0m\n\u001b[0m\u001b[1;32m      9\u001b[0m         \u001b[0mprint\u001b[0m\u001b[0;34m(\u001b[0m\u001b[0mnext\u001b[0m\u001b[0;34m(\u001b[0m\u001b[0mreader\u001b[0m\u001b[0;34m)\u001b[0m\u001b[0;34m)\u001b[0m\u001b[0;34m\u001b[0m\u001b[0;34m\u001b[0m\u001b[0m\n\u001b[1;32m     10\u001b[0m \u001b[0;34m\u001b[0m\u001b[0m\n",
      "\u001b[0;31mNameError\u001b[0m: name 'xrange' is not defined"
     ]
    }
   ],
   "source": [
    "# для примера попробуем написать функцию, которая печатает первые 5 строчек csv файла с нашими данными  \n",
    "import csv  \n",
    "  \n",
    "# открываем файл  \n",
    "with open(\"imdb.csv\", newline=\"\") as csvfile:  \n",
    "    # делаем reader, который построчно берёт данные из файла  \n",
    "    reader = csv.reader(csvfile)  \n",
    "    for i in xrange(5):  \n",
    "        print(next(reader))  \n",
    "          \n",
    "# ---------------------------------------------------------------------------  \n",
    "# NameError                                 Traceback (most recent call last)  \n",
    "# <ipython-input-201-6e6f17831e06> in <module>  \n",
    "#       6     # делаем reader, который построчно берёт данные из файла  \n",
    "#       7     reader = csv.reader(csvfile)  \n",
    "# ----> 8     for i in xrange(5):  \n",
    "#       9         print(next(reader))  \n",
    "#      10   \n",
    "  \n",
    "# NameError: name 'xrange' is not defined  "
   ]
  },
  {
   "cell_type": "markdown",
   "metadata": {},
   "source": [
    "Дальше мы смотрим на исключение и поясняющее сообщение NameError: name 'xrange' is not defined. В стэке вызова мы видим, что это имя использовалось в 8-ой строчке. Хrange было функцией в Python2, но в Python3 её переименовали в range. Исправим это:"
   ]
  },
  {
   "cell_type": "code",
   "execution_count": 7,
   "metadata": {
    "scrolled": true
   },
   "outputs": [
    {
     "name": "stdout",
     "output_type": "stream",
     "text": [
      "['Rank', 'Title', 'Genre', 'Description', 'Director', 'Actors', 'Year', 'Runtime (Minutes)', 'Rating', 'Votes', 'Revenue (Millions)', 'Metascore']\n",
      "['1', 'Guardians of the Galaxy', 'Action,Adventure,Sci-Fi', 'A group of intergalactic criminals are forced to work together to stop a fanatical warrior from taking control of the universe.', 'James Gunn', 'Chris Pratt, Vin Diesel, Bradley Cooper, Zoe Saldana', '2014', '121', '8.1', '757074', '333.13', '76']\n",
      "['2', 'Prometheus', 'Adventure,Mystery,Sci-Fi', 'Following clues to the origin of mankind, a team finds a structure on a distant moon, but they soon realize they are not alone.', 'Ridley Scott', 'Noomi Rapace, Logan Marshall-Green, Michael Fassbender, Charlize Theron', '2012', '124', '7', '485820', '126.46', '65']\n",
      "['3', 'Split', 'Horror,Thriller', 'Three girls are kidnapped by a man with a diagnosed 23 distinct personalities. They must try to escape before the apparent emergence of a frightful new 24th.', 'M. Night Shyamalan', 'James McAvoy, Anya Taylor-Joy, Haley Lu Richardson, Jessica Sula', '2016', '117', '7.3', '157606', '138.12', '62']\n",
      "['4', 'Sing', 'Animation,Comedy,Family', \"In a city of humanoid animals, a hustling theater impresario's attempt to save his theater with a singing competition becomes grander than he anticipates even as its finalists' find that their lives will never be the same.\", 'Christophe Lourdelet', 'Matthew McConaughey,Reese Witherspoon, Seth MacFarlane, Scarlett Johansson', '2016', '108', '7.2', '60545', '270.32', '59']\n"
     ]
    }
   ],
   "source": [
    "import csv  \n",
    "  \n",
    "with open(\"imdb.csv\", newline=\"\") as csvfile:  \n",
    "    reader = csv.reader(csvfile)  \n",
    "    for i in range(5):  \n",
    "        print(next(reader))  \n",
    "  \n",
    "# => ['Rank', 'Title', 'Genre', 'Description', 'Director', 'Actors', 'Year', 'Runtime (Minutes)', 'Rating', 'Votes', 'Revenue (Millions)', 'Metascore']  \n",
    "# ['1', 'Guardians of the Galaxy', 'Action,Adventure,Sci-Fi', 'A group of intergalactic criminals are forced to work together to stop a fanatical warrior from taking control of the universe.', 'James Gunn', 'Chris Pratt, Vin Diesel, Bradley Cooper, Zoe Saldana', '2014', '121', '8.1', '757074', '333.13', '76']\n",
    "# ..."
   ]
  },
  {
   "cell_type": "markdown",
   "metadata": {},
   "source": [
    "### Задание\n",
    "На что надо смотреть в сообщении об ошибке?\n",
    "\n",
    "Ответ:  \n",
    "- На имя исключения и поясняющее собщение \n",
    "- На номер строки с ошибкой\n",
    "- На содержание строки с ошибкой"
   ]
  },
  {
   "cell_type": "markdown",
   "metadata": {},
   "source": [
    "### 12. Отладка через print\n",
    "Внимательное чтение сообщения уже должно решить большую часть явных ошибок с выбрасываемым исключением. Если случай более запутанный, и сходу разрешить его не удалось, ключевое здесь — понять, на каких данных ваш код не работает. В базовом варианте можно использовать print.\n",
    "\n",
    "Выведите все релевантные данные до строки, где возникла ошибка, и подумайте, что с этими данными могло пойти не так:"
   ]
  },
  {
   "cell_type": "code",
   "execution_count": 8,
   "metadata": {},
   "outputs": [
    {
     "ename": "TypeError",
     "evalue": "list indices must be integers or slices, not str",
     "output_type": "error",
     "traceback": [
      "\u001b[0;31m---------------------------------------------------------------------------\u001b[0m",
      "\u001b[0;31mTypeError\u001b[0m                                 Traceback (most recent call last)",
      "\u001b[0;32m<ipython-input-8-d3d1c757fd07>\u001b[0m in \u001b[0;36m<module>\u001b[0;34m\u001b[0m\n\u001b[1;32m     23\u001b[0m     \u001b[0mreader\u001b[0m \u001b[0;34m=\u001b[0m \u001b[0mcsv\u001b[0m\u001b[0;34m.\u001b[0m\u001b[0mreader\u001b[0m\u001b[0;34m(\u001b[0m\u001b[0mcsvfile\u001b[0m\u001b[0;34m)\u001b[0m\u001b[0;34m\u001b[0m\u001b[0;34m\u001b[0m\u001b[0m\n\u001b[1;32m     24\u001b[0m     \u001b[0;31m# строим таблицу\u001b[0m\u001b[0;34m\u001b[0m\u001b[0;34m\u001b[0m\u001b[0;34m\u001b[0m\u001b[0m\n\u001b[0;32m---> 25\u001b[0;31m     \u001b[0mimdb_data\u001b[0m \u001b[0;34m=\u001b[0m \u001b[0mbuild_table\u001b[0m\u001b[0;34m(\u001b[0m\u001b[0mreader\u001b[0m\u001b[0;34m)\u001b[0m\u001b[0;34m\u001b[0m\u001b[0;34m\u001b[0m\u001b[0m\n\u001b[0m\u001b[1;32m     26\u001b[0m \u001b[0;34m\u001b[0m\u001b[0m\n\u001b[1;32m     27\u001b[0m \u001b[0;34m\u001b[0m\u001b[0m\n",
      "\u001b[0;32m<ipython-input-8-d3d1c757fd07>\u001b[0m in \u001b[0;36mbuild_table\u001b[0;34m(reader)\u001b[0m\n\u001b[1;32m     15\u001b[0m     \u001b[0;32mfor\u001b[0m \u001b[0mrow\u001b[0m \u001b[0;32min\u001b[0m \u001b[0mreader\u001b[0m\u001b[0;34m:\u001b[0m\u001b[0;34m\u001b[0m\u001b[0;34m\u001b[0m\u001b[0m\n\u001b[1;32m     16\u001b[0m         \u001b[0;32mfor\u001b[0m \u001b[0mheader\u001b[0m \u001b[0;32min\u001b[0m \u001b[0mheaders\u001b[0m\u001b[0;34m:\u001b[0m\u001b[0;34m\u001b[0m\u001b[0;34m\u001b[0m\u001b[0m\n\u001b[0;32m---> 17\u001b[0;31m             \u001b[0mtable\u001b[0m\u001b[0;34m[\u001b[0m\u001b[0mheader\u001b[0m\u001b[0;34m]\u001b[0m\u001b[0;34m.\u001b[0m\u001b[0mappend\u001b[0m\u001b[0;34m(\u001b[0m\u001b[0mrow\u001b[0m\u001b[0;34m[\u001b[0m\u001b[0mheader\u001b[0m\u001b[0;34m]\u001b[0m\u001b[0;34m)\u001b[0m\u001b[0;34m\u001b[0m\u001b[0;34m\u001b[0m\u001b[0m\n\u001b[0m\u001b[1;32m     18\u001b[0m \u001b[0;34m\u001b[0m\u001b[0m\n\u001b[1;32m     19\u001b[0m     \u001b[0;32mreturn\u001b[0m \u001b[0mtable\u001b[0m\u001b[0;34m\u001b[0m\u001b[0;34m\u001b[0m\u001b[0m\n",
      "\u001b[0;31mTypeError\u001b[0m: list indices must be integers or slices, not str"
     ]
    }
   ],
   "source": [
    "# Теперь попробуем поместить данные в некое подобие таблицы.  \n",
    "# У нас будет словарь, где ключами будут имена столбцов, а значениями - списки с данными   \n",
    "import csv  \n",
    "  \n",
    "  \n",
    "# функция, которая делает таблицу по данным из reader  \n",
    "def build_table(reader):  \n",
    "    table = {}  \n",
    "    # инициализируем столбцы  \n",
    "    headers = next(reader)  \n",
    "    for header in headers:  \n",
    "        table[header] = []  \n",
    "          \n",
    "    # считываем данные      \n",
    "    for row in reader:  \n",
    "        for header in headers:  \n",
    "            table[header].append(row[header])  \n",
    "              \n",
    "    return table  \n",
    "  \n",
    "with open(\"imdb.csv\", newline=\"\") as csvfile:  \n",
    "    # делаем reader, который построчно берёт данные из файла  \n",
    "    reader = csv.reader(csvfile)  \n",
    "    # строим таблицу  \n",
    "    imdb_data = build_table(reader)  \n",
    "  \n",
    "  \n",
    "# ---------------------------------------------------------------------------  \n",
    "# TypeError                                 Traceback (most recent call last)  \n",
    "# <ipython-input-207-9a69df7712c2> in <module>  \n",
    "#      23     reader = csv.reader(csvfile)  \n",
    "#      24     # строим таблицу  \n",
    "# ---> 25     imdb_data = build_table(reader)  \n",
    "#      26   \n",
    "#      27 # ---------------------------------------------------------------------------  \n",
    "  \n",
    "# <ipython-input-207-9a69df7712c2> in build_table(reader)  \n",
    "#      15     for row in reader:  \n",
    "#      16         for header in headers:  \n",
    "# ---> 17             table[header].append(row[header])  \n",
    "#      18   \n",
    "#      19     return table  \n",
    "  \n",
    "# TypeError: list indices must be integers or slices, not str  "
   ]
  },
  {
   "cell_type": "markdown",
   "metadata": {},
   "source": [
    "Мы получили TypeError и сообщение, что индекс должен быть числом в 17 строке. Сразу может быть непонятно, почему это произошло, поэтому давайте посмотрим на данные:"
   ]
  },
  {
   "cell_type": "code",
   "execution_count": 10,
   "metadata": {},
   "outputs": [
    {
     "name": "stdout",
     "output_type": "stream",
     "text": [
      "Header: Rank\n",
      "Table: {'Rank': [], 'Title': [], 'Genre': [], 'Description': [], 'Director': [], 'Actors': [], 'Year': [], 'Runtime (Minutes)': [], 'Rating': [], 'Votes': [], 'Revenue (Millions)': [], 'Metascore': []}\n",
      "Row: ['1', 'Guardians of the Galaxy', 'Action,Adventure,Sci-Fi', 'A group of intergalactic criminals are forced to work together to stop a fanatical warrior from taking control of the universe.', 'James Gunn', 'Chris Pratt, Vin Diesel, Bradley Cooper, Zoe Saldana', '2014', '121', '8.1', '757074', '333.13', '76']\n"
     ]
    },
    {
     "ename": "TypeError",
     "evalue": "list indices must be integers or slices, not str",
     "output_type": "error",
     "traceback": [
      "\u001b[0;31m---------------------------------------------------------------------------\u001b[0m",
      "\u001b[0;31mTypeError\u001b[0m                                 Traceback (most recent call last)",
      "\u001b[0;32m<ipython-input-10-13a9976cb447>\u001b[0m in \u001b[0;36m<module>\u001b[0;34m\u001b[0m\n\u001b[1;32m     20\u001b[0m \u001b[0;32mwith\u001b[0m \u001b[0mopen\u001b[0m\u001b[0;34m(\u001b[0m\u001b[0;34m\"imdb.csv\"\u001b[0m\u001b[0;34m,\u001b[0m \u001b[0mnewline\u001b[0m\u001b[0;34m=\u001b[0m\u001b[0;34m\"\"\u001b[0m\u001b[0;34m)\u001b[0m \u001b[0;32mas\u001b[0m \u001b[0mcsvfile\u001b[0m\u001b[0;34m:\u001b[0m\u001b[0;34m\u001b[0m\u001b[0;34m\u001b[0m\u001b[0m\n\u001b[1;32m     21\u001b[0m     \u001b[0mreader\u001b[0m \u001b[0;34m=\u001b[0m \u001b[0mcsv\u001b[0m\u001b[0;34m.\u001b[0m\u001b[0mreader\u001b[0m\u001b[0;34m(\u001b[0m\u001b[0mcsvfile\u001b[0m\u001b[0;34m)\u001b[0m\u001b[0;34m\u001b[0m\u001b[0;34m\u001b[0m\u001b[0m\n\u001b[0;32m---> 22\u001b[0;31m     \u001b[0mimdb_data\u001b[0m \u001b[0;34m=\u001b[0m \u001b[0mbuild_table\u001b[0m\u001b[0;34m(\u001b[0m\u001b[0mreader\u001b[0m\u001b[0;34m)\u001b[0m\u001b[0;34m\u001b[0m\u001b[0;34m\u001b[0m\u001b[0m\n\u001b[0m\u001b[1;32m     23\u001b[0m \u001b[0;34m\u001b[0m\u001b[0m\n\u001b[1;32m     24\u001b[0m \u001b[0;34m\u001b[0m\u001b[0m\n",
      "\u001b[0;32m<ipython-input-10-13a9976cb447>\u001b[0m in \u001b[0;36mbuild_table\u001b[0;34m(reader)\u001b[0m\n\u001b[1;32m     14\u001b[0m             \u001b[0mprint\u001b[0m\u001b[0;34m(\u001b[0m\u001b[0;34m\"Table:\"\u001b[0m\u001b[0;34m,\u001b[0m \u001b[0mtable\u001b[0m\u001b[0;34m)\u001b[0m\u001b[0;34m\u001b[0m\u001b[0;34m\u001b[0m\u001b[0m\n\u001b[1;32m     15\u001b[0m             \u001b[0mprint\u001b[0m\u001b[0;34m(\u001b[0m\u001b[0;34m\"Row:\"\u001b[0m\u001b[0;34m,\u001b[0m \u001b[0mrow\u001b[0m\u001b[0;34m)\u001b[0m\u001b[0;34m\u001b[0m\u001b[0;34m\u001b[0m\u001b[0m\n\u001b[0;32m---> 16\u001b[0;31m             \u001b[0mtable\u001b[0m\u001b[0;34m[\u001b[0m\u001b[0mheader\u001b[0m\u001b[0;34m]\u001b[0m\u001b[0;34m.\u001b[0m\u001b[0mappend\u001b[0m\u001b[0;34m(\u001b[0m\u001b[0mrow\u001b[0m\u001b[0;34m[\u001b[0m\u001b[0mheader\u001b[0m\u001b[0;34m]\u001b[0m\u001b[0;34m)\u001b[0m\u001b[0;34m\u001b[0m\u001b[0;34m\u001b[0m\u001b[0m\n\u001b[0m\u001b[1;32m     17\u001b[0m \u001b[0;34m\u001b[0m\u001b[0m\n\u001b[1;32m     18\u001b[0m     \u001b[0;32mreturn\u001b[0m \u001b[0mtable\u001b[0m\u001b[0;34m\u001b[0m\u001b[0;34m\u001b[0m\u001b[0m\n",
      "\u001b[0;31mTypeError\u001b[0m: list indices must be integers or slices, not str"
     ]
    }
   ],
   "source": [
    "import csv  \n",
    "  \n",
    "  \n",
    "def build_table(reader):  \n",
    "    table = {}  \n",
    "    headers = next(reader)  \n",
    "    for header in headers:  \n",
    "        table[header] = []  \n",
    "          \n",
    "    for row in reader:  \n",
    "        for header in headers:  \n",
    "            # Мы выводим значения всех переменных, которые задействованы в ошибочной строке  \n",
    "            print(\"Header:\", header)  \n",
    "            print(\"Table:\", table)  \n",
    "            print(\"Row:\", row)  \n",
    "            table[header].append(row[header])  \n",
    "              \n",
    "    return table  \n",
    "  \n",
    "with open(\"imdb.csv\", newline=\"\") as csvfile:  \n",
    "    reader = csv.reader(csvfile)  \n",
    "    imdb_data = build_table(reader)  \n",
    "  \n",
    "  \n",
    "# Header: Rank  \n",
    "# Table: {'Rank': [], 'Title': [], 'Genre': [], 'Description': [], 'Director': [], 'Actors': [], 'Year': [], 'Runtime (Minutes)': [], 'Rating': [], 'Votes': [], 'Revenue (Millions)': [], 'Metascore': []}  \n",
    "# Row: ['1', 'Guardians of the Galaxy', 'Action,Adventure,Sci-Fi', 'A group of intergalactic criminals are forced to work together to stop a fanatical warrior from taking control of the universe.', 'James Gunn', 'Chris Pratt, Vin Diesel, Bradley Cooper, Zoe Saldana', '2014', '121', '8.1', '757074', '333.13', '76']  "
   ]
  },
  {
   "cell_type": "markdown",
   "metadata": {},
   "source": [
    "Вот наша строка с ошибкой: table[header].append(row[header]). В ней мы видим два потенциальных места, где могла произойти ошибка, — table[header] и row[header]. Смотрим на данные, header — это строка \"Rank\". В словаре table есть ключ \"Rank\", значит, ошибка не там. Но row является списком, поэтому мы должны использовать численный индекс, а не строку. Исправим программу, чтобы передавался последовательный номер заголовка, а не он сам:"
   ]
  },
  {
   "cell_type": "code",
   "execution_count": 11,
   "metadata": {
    "scrolled": true
   },
   "outputs": [
    {
     "name": "stdout",
     "output_type": "stream",
     "text": [
      "Rank ['1', '2', '3', '4', '5']\n",
      "Title ['Guardians of the Galaxy', 'Prometheus', 'Split', 'Sing', 'Suicide Squad']\n",
      "Genre ['Action,Adventure,Sci-Fi', 'Adventure,Mystery,Sci-Fi', 'Horror,Thriller', 'Animation,Comedy,Family', 'Action,Adventure,Fantasy']\n",
      "Description ['A group of intergalactic criminals are forced to work together to stop a fanatical warrior from taking control of the universe.', 'Following clues to the origin of mankind, a team finds a structure on a distant moon, but they soon realize they are not alone.', 'Three girls are kidnapped by a man with a diagnosed 23 distinct personalities. They must try to escape before the apparent emergence of a frightful new 24th.', \"In a city of humanoid animals, a hustling theater impresario's attempt to save his theater with a singing competition becomes grander than he anticipates even as its finalists' find that their lives will never be the same.\", 'A secret government agency recruits some of the most dangerous incarcerated super-villains to form a defensive task force. Their first mission: save the world from the apocalypse.']\n",
      "Director ['James Gunn', 'Ridley Scott', 'M. Night Shyamalan', 'Christophe Lourdelet', 'David Ayer']\n",
      "Actors ['Chris Pratt, Vin Diesel, Bradley Cooper, Zoe Saldana', 'Noomi Rapace, Logan Marshall-Green, Michael Fassbender, Charlize Theron', 'James McAvoy, Anya Taylor-Joy, Haley Lu Richardson, Jessica Sula', 'Matthew McConaughey,Reese Witherspoon, Seth MacFarlane, Scarlett Johansson', 'Will Smith, Jared Leto, Margot Robbie, Viola Davis']\n",
      "Year ['2014', '2012', '2016', '2016', '2016']\n",
      "Runtime (Minutes) ['121', '124', '117', '108', '123']\n",
      "Rating ['8.1', '7', '7.3', '7.2', '6.2']\n",
      "Votes ['757074', '485820', '157606', '60545', '393727']\n",
      "Revenue (Millions) ['333.13', '126.46', '138.12', '270.32', '325.02']\n",
      "Metascore ['76', '65', '62', '59', '40']\n"
     ]
    }
   ],
   "source": [
    "import csv  \n",
    "  \n",
    "def build_table(reader):  \n",
    "    table = {}  \n",
    "    headers = next(reader)  \n",
    "    for header in headers:  \n",
    "        table[header] = []  \n",
    "          \n",
    "    for row in reader:  \n",
    "        # Обратите внимание, что теперь мы используем индекс столбца, а не его имя для обращения к элементу row  \n",
    "        for i, header in enumerate(headers):  \n",
    "            table[header].append(row[i])  \n",
    "              \n",
    "    return table  \n",
    "  \n",
    "with open(\"imdb.csv\", newline=\"\") as csvfile:  \n",
    "    reader = csv.reader(csvfile)  \n",
    "    imdb_data = build_table(reader)  \n",
    "  \n",
    "  \n",
    "# Выведем данные в полученной таблице  \n",
    "for header, values in imdb_data.items():  \n",
    "    print(header, values[:5])  \n",
    "\n",
    "# Rank ['1', '2', '3', '4', '5']  \n",
    "# Title ['Guardians of the Galaxy', 'Prometheus', 'Split', 'Sing', 'Suicide Squad']  \n",
    "# Genre ['Action,Adventure,Sci-Fi', 'Adventure,Mystery,Sci-Fi', 'Horror,Thriller', 'Animation,Comedy,Family', 'Action,Adventure,Fantasy']  \n",
    "# ...  "
   ]
  },
  {
   "cell_type": "markdown",
   "metadata": {},
   "source": [
    "Всё работает! В конце заметим, что print выводит строку без кавычек, что иногда затрудняет понимание данных.\n",
    "\n"
   ]
  },
  {
   "cell_type": "code",
   "execution_count": 12,
   "metadata": {},
   "outputs": [
    {
     "name": "stdout",
     "output_type": "stream",
     "text": [
      "5\n",
      "5\n"
     ]
    }
   ],
   "source": [
    "print(5)  \n",
    "# => 5  \n",
    "print(\"5\")  \n",
    "# => 5  \n"
   ]
  },
  {
   "cell_type": "markdown",
   "metadata": {},
   "source": [
    "Быстрый способ обойти это — использовать метод repr(). Он старается вывести объекты так, как они бы выглядели в самом коде:\n",
    "\n"
   ]
  },
  {
   "cell_type": "code",
   "execution_count": 13,
   "metadata": {},
   "outputs": [
    {
     "name": "stdout",
     "output_type": "stream",
     "text": [
      "5\n",
      "'5'\n"
     ]
    }
   ],
   "source": [
    "print(repr(5))  \n",
    "# => 5  \n",
    "print(repr(\"5\"))  \n",
    "# => '5'  "
   ]
  },
  {
   "cell_type": "code",
   "execution_count": 14,
   "metadata": {},
   "outputs": [
    {
     "name": "stdout",
     "output_type": "stream",
     "text": [
      "'12.48'\n"
     ]
    }
   ],
   "source": [
    "print(repr('12.48'))"
   ]
  },
  {
   "cell_type": "markdown",
   "metadata": {},
   "source": [
    "### Задание 2\n",
    "У вас есть функция, которая должна убирать дубликаты из списка и сохранять при этом порядок:\n",
    "\n",
    "```\n",
    "remove_dups([1, 12, 4, 1, 4, 8])\n",
    "# => [1, 12, 4, 8]\n",
    "```\n",
    "    \n",
    "Сейчас она не очень хорошо написана и возвращает исключение: исправьте её\n",
    "```python\n",
    "from copy import copy\n",
    "\n",
    "def remove_dups(values):\n",
    "    values = copy(values)\n",
    "    for i in range(len(values)):\n",
    "        if values[i+1] in values[i:]:\n",
    "            values.remove(values[i])\n",
    "    return values\n",
    "```"
   ]
  },
  {
   "cell_type": "code",
   "execution_count": 15,
   "metadata": {},
   "outputs": [],
   "source": [
    "def remove_dups(values):\n",
    "    result = []\n",
    "    for i in range(0,len(values)):\n",
    "        if values[i] not in values[:i]:\n",
    "            result.append(values[i])\n",
    "    return result"
   ]
  },
  {
   "cell_type": "code",
   "execution_count": 16,
   "metadata": {},
   "outputs": [
    {
     "data": {
      "text/plain": [
       "[1, 12, 4, 8]"
      ]
     },
     "execution_count": 16,
     "metadata": {},
     "output_type": "execute_result"
    }
   ],
   "source": [
    "remove_dups([1, 12, 4, 1, 4, 8])"
   ]
  },
  {
   "cell_type": "markdown",
   "metadata": {},
   "source": [
    "### 13. Отлов багов\n",
    "## 2.13 Отлов багов\n",
    "Баги — ошибки в логике программы, и они менее очевидны для отладки, чем явные исключения. Вы можете быть уверены, что код работает идеально, а спустя несколько дней обнаружить, что он возвращает неверные ответы. Начинать следует с определения места ошибки; так как сообщений об ошибке нет, то задача сводится к нахождению аномалии в данных. Для этого отлично подходят дебаггеры, и в `Python` есть встроенный — `pdb`.\n",
    "\n",
    "Ранее мы использовали `print`, чтобы выводить переменные перед строкой с ошибкой. Дебаггеры решают примерно ту же задачу, только делают это гораздо лучше: они позволяют остановить программу посреди выполнения и посмотреть на её состояние через интерактивную консоль.\n",
    "\n",
    "Чтобы поставить программу на паузу в определённом месте, вызовите метод `set_trace` на этой строчке:\n",
    "```\n",
    "import pdb; pdb.set_trace()  \n",
    "```\n",
    "Когда вы запустите программу и интерпретатор дойдёт до этой строчки, у вас откроется интерактивная консоль.\n",
    "\n",
    "Возможности дебаггера:\n",
    "\n",
    "- возможно выполнение любого корректного кода в нём: вывести значения любой доступной переменной, метод locals() выведет локальные переменные;\n",
    "- PP позволяет вывести словари и их объекты, что упрощает чтение;\n",
    "- перемещение по коду: next выполнит следующую строку, return выполнит весь код до конца текущей функции и вернёт интерактивную консоль на следующей строчке, continue выйдет из интерактивного режима и продолжит программу."
   ]
  },
  {
   "cell_type": "markdown",
   "metadata": {},
   "source": [
    "### 14. Использование pdb\n",
    "В предыдущем блоке мы привели основные команды pdb. Полный список команд выводится по запросу `help` внутри интерактивной сессии `pdb`, а пока давайте посмотрим работу метода на конкретном примере. Пусть у нас есть следующая функция:"
   ]
  },
  {
   "cell_type": "code",
   "execution_count": 4,
   "metadata": {},
   "outputs": [
    {
     "name": "stdout",
     "output_type": "stream",
     "text": [
      "Counter({'Drama': 501, 'Action': 296, 'Comedy': 277, 'Adventure': 254, 'Thriller': 189, 'Crime': 146, 'Romance': 138, 'Sci-Fi': 117, 'Horror': 117, 'Mystery': 103, 'Fantasy': 100, 'Biography': 80, 'Family': 51, 'Animation': 49, 'History': 26, 'Sport': 18, 'Music': 16, 'War': 13, 'Western': 7, 'Musical': 5})\n"
     ]
    }
   ],
   "source": [
    "from collections import Counter  \n",
    "  \n",
    "# Считаем, сколько фильмов в каждом жанре  \n",
    "def count_genres(column):  \n",
    "    genres = []  \n",
    "    for movie_genres in column:  \n",
    "        splitted = movie_genres.split(\",\")  \n",
    "        genres.extend(splitted)  \n",
    "    counter = Counter(genres)  \n",
    "      \n",
    "    return counter   \n",
    "   \n",
    "print(count_genres(data[\"Genre\"]))  "
   ]
  },
  {
   "cell_type": "markdown",
   "metadata": {},
   "source": [
    "Мы получили результат, но чтобы лучше понять, как мы это сделали, воспользуемся дебаггером. Для этого поставим вызов `pdb.set_trace()` в начале функции. Вызов дебаггера часто называют брейкпоинтом (`breakpoint`, точка прерывания), потому что программа ставится на паузу в этой точке."
   ]
  },
  {
   "cell_type": "code",
   "execution_count": null,
   "metadata": {},
   "outputs": [],
   "source": [
    "from collections import Counter  \n",
    "import pdb  \n",
    "  \n",
    "  \n",
    "def count_genres(column):  \n",
    "    genres = []  \n",
    "    # ставим брейкпоинт в этом месте  \n",
    "    pdb.set_trace()  \n",
    "    for movie_genres in column:  \n",
    "        splitted = movie_genres.split(\",\")  \n",
    "        genres.extend(splitted)  \n",
    "    counter = Counter(genres)  \n",
    "      \n",
    "    return counter   \n",
    "   \n",
    "print(count_genres(data[\"Genre\"])) "
   ]
  },
  {
   "cell_type": "markdown",
   "metadata": {},
   "source": [
    "При выполнении программы у нас запустится интерактивная сессия. Ниже идут команды к pdb, и что он возвращает.  Команды идут после символов (Pdb), которые консоль выводит сама.\n",
    "\n"
   ]
  },
  {
   "cell_type": "code",
   "execution_count": null,
   "metadata": {},
   "outputs": [],
   "source": [
    "# При запуске дебаггер показывает, что мы находимся на 8 строке  \n",
    "> <imdb.py>(8)count_genres()  \n",
    "-> for movie_genres in column:  \n",
    "      \n",
    "# Попробуем вывести жанры. На этот момент это должен быть пустой список  \n",
    "(Pdb)  genres  \n",
    "[]  \n",
    "  \n",
    "# Перейдём на три строки вниз, для этого три раза вызовем next  \n",
    "(Pdb)  next  \n",
    "> <imdb.py>(9)count_genres()  \n",
    "-> splitted = movie_genres.split(\",\")  \n",
    "  \n",
    "(Pdb)  next  \n",
    "> <imdb.py>(10)count_genres()  \n",
    "-> genres.extend(splitted)  \n",
    "  \n",
    "  \n",
    "(Pdb)  next  \n",
    "> <imdb.py>(8)count_genres()  \n",
    "-> for movie_genres in column:  \n",
    "  \n",
    "# Выведем значение splitted и genres, чтобы посмотреть их содержание.  \n",
    "# На этот раз в genres должно быть как раз содержания splitted  \n",
    "(Pdb)  splitted  \n",
    "['Action', 'Adventure', 'Sci-Fi']  \n",
    "      \n",
    "(Pdb)  genres  \n",
    "['Action', 'Adventure', 'Sci-Fi']  \n",
    "  \n",
    "# Выйдем из интерактивной сессии и продолжим программу до конца.  \n",
    "(Pdb)  continue  \n",
    "Counter({'Drama': 513, 'Action': 303, 'Comedy': 279, 'Adventure': 259, 'Thriller': 195, 'Crime': 150, 'Romance': 141, 'Sci-Fi': 120, 'Horror': 119, 'Mystery': 106, 'Fantasy': 101, 'Biography': 81, 'Family': 51, 'Animation': 49, 'History': 29, 'Sport': 18, 'Music': 16\n"
   ]
  },
  {
   "cell_type": "markdown",
   "metadata": {},
   "source": [
    "### Задание\n",
    "У нас есть функция `group_values(db, value_key, group_key, step)`. Она должна группировать объекты из `db` по ключу `group_key` с шагом `step`. В результат попадает только значение аттрибута `value_key`.\n",
    "\n",
    "Это похоже на гистограмму, когда мы раскладываем значения по корзинам определённого размера. Скажем, у нас есть пользователи:"
   ]
  },
  {
   "cell_type": "code",
   "execution_count": 6,
   "metadata": {},
   "outputs": [],
   "source": [
    "user_db = [\n",
    "    {\"name\": \"Elena\", \"age\": 19, \"salary\": 80_000},\n",
    "    {\"name\": \"Sergey\", \"age\": 31, \"salary\": 160_000},\n",
    "    {\"name\": \"Olga\", \"age\": 33, \"salary\": 170_000},\n",
    "    {\"name\": \"Vadim\", \"age\": 17, \"salary\": 45_000}\n",
    "]"
   ]
  },
  {
   "cell_type": "markdown",
   "metadata": {},
   "source": [
    "Мы хотим сгруппировать их зарплаты(salary) по возрасту(age) с шагом в 10 лет. Получится\n",
    "```\n",
    "group_values(user_db, \"salary\", \"age\", 10)\n",
    "# => \n",
    "# {\n",
    "#     10: [80_000, 45_000],\n",
    "#     30: [160_000, 170_000]\n",
    "# }\n",
    "```    "
   ]
  },
  {
   "cell_type": "markdown",
   "metadata": {},
   "source": [
    "Сейчас функция возвращает что-то не то. Исправьте это, пользуясь `pdb`. Для этого вам нужно скопировать код на свой компьютер и запустить либо в `Python`, либо в `Jupyter`. Входной формат именно такой, как указан в примере `user_db`"
   ]
  },
  {
   "cell_type": "code",
   "execution_count": 7,
   "metadata": {},
   "outputs": [],
   "source": [
    "from collections import defaultdict\n",
    "\n",
    "def group_values(db, value_key, group_key, step):\n",
    "    grouped = defaultdict(list) \n",
    "    for item in db:\n",
    "        grouped[(item[group_key] // step)*step].append(item[value_key])\n",
    "    return grouped"
   ]
  },
  {
   "cell_type": "code",
   "execution_count": 8,
   "metadata": {},
   "outputs": [
    {
     "data": {
      "text/plain": [
       "defaultdict(list, {10: [80000, 45000], 30: [160000, 170000]})"
      ]
     },
     "execution_count": 8,
     "metadata": {},
     "output_type": "execute_result"
    }
   ],
   "source": [
    "group_values(user_db, \"salary\", \"age\", 10)"
   ]
  },
  {
   "cell_type": "code",
   "execution_count": 9,
   "metadata": {},
   "outputs": [],
   "source": [
    "user_db = [\n",
    "    {\"name\": \"Elena\", \"age\": 19, \"salary\": 80_000},\n",
    "    {\"name\": \"Sergey\", \"age\": 31, \"salary\": 160_000},\n",
    "    {\"name\": \"Olga\", \"age\": 33, \"salary\": 170_000},\n",
    "    {\"name\": \"Vadim\", \"age\": 17, \"salary\": 45_000}\n",
    "]"
   ]
  },
  {
   "cell_type": "code",
   "execution_count": 10,
   "metadata": {},
   "outputs": [],
   "source": [
    "def group_values(db, value_key, group_key, step):\n",
    "    grouped = defaultdict(list)\n",
    "    for item in db:\n",
    "        for i in range(step, item[group_key], step):\n",
    "            if (item[group_key] - i) < step:\n",
    "                grouped[i].append(item[value_key])\n",
    "    return grouped"
   ]
  },
  {
   "cell_type": "code",
   "execution_count": 11,
   "metadata": {},
   "outputs": [],
   "source": [
    "# Вот этот варинат принимает валидатор\n",
    "\n",
    "from collections import defaultdict\n",
    "def group_values(db, value_key, group_key, step):\n",
    "    grouped = defaultdict(list)\n",
    "    for item in db:\n",
    "        grouped[(min([x[group_key] for x in db]) // step) * step + step * ((item[group_key] // step) - (min([x[group_key] for x in db]) // step))].append(item[value_key])\n",
    "    return grouped"
   ]
  },
  {
   "cell_type": "markdown",
   "metadata": {},
   "source": [
    "### 15. Смысл тестирования\n",
    "Объяснение смысла тестирования начнём с классического анекдота.\n",
    "\n",
    "У программиста спрашивают:\n",
    "\n",
    "— В чём сложность поддержки большого проекта?\n",
    "\n",
    "Программист:\n",
    "\n",
    "— Представь, что ты писатель и поддерживаешь проект «Война и мир». У тебя ТЗ — написать главу, как Наташа Ростова гуляла под дождём по парку. Ты пишешь «шёл дождь», сохраняешь, вылетает сообщение об ошибке «Наташа Ростова умерла, продолжение невозможно». Почему умерла? Начинаешь разбираться. Выясняется, что у Пьера Безухова скользкие туфли, он упал, его пистолет ударился о землю и выстрелил в столб, а пуля от столба срикошетила в Наташу. Что делать? Зарядить пистолет холостыми? Поменять туфли? Решили убрать столб. Получаем сообщение «Поручик Ржевский умер». Выясняется, что он в следующей главе опирается на столб, которого уже нет.\n",
    "\n",
    "Чем сложнее программа, тем больше вероятность ошибки. Если вы постоянно меняете ошибку в разных местах, то функции, которые работали вчера, могут не сработать сегодня. Ситуация усложняется, если вы работаете в команде: нельзя гарантировать, что изменения, внесенные коллегой, не сломают ваш код.\n",
    "\n",
    "Вы можете проверять код руками с помощью print, дебаггера и анализа результата выполнения программы. Это может нормально работать для небольших программ, но с ростом количества кода и функций каждая проверка требует больше времени. Кроме того, вы вряд ли сможете каждый раз проверять все функции и ограничитесь одной-двумя базовыми проверками, что плохо скажется на качестве."
   ]
  },
  {
   "cell_type": "markdown",
   "metadata": {},
   "source": [
    "### Задание\n",
    "В чём проблемы ручного тестирования?\n",
    "\n",
    "Ответ:  \n",
    "- Легко пропустить ошибку.\n",
    "- На него уходит много времени."
   ]
  },
  {
   "cell_type": "markdown",
   "metadata": {},
   "source": [
    "### 2.16 Автоматическое тестирование\n"
   ]
  },
  {
   "cell_type": "markdown",
   "metadata": {},
   "source": [
    "Сложности, которые могут возникнуть  с ручным тестированием, может решить автоматическое тестирование. В разделе отладки мы говорили, что нужно анализировать поток данных: что поступает на вход и получается на выходе; на это и нацелены тесты функций.\n",
    "\n",
    "Воспользуемся библиотекой `pytest`, которая позволяет определять тесты и используется в крупных проектах. Документацию к библиотеке можно посмотреть [здесь](https://docs.pytest.org/en/latest/). \n",
    "\n",
    "Запустилось три теста (`collected 3 items`), и все три корректно отработали (`3 passed`):"
   ]
  },
  {
   "cell_type": "code",
   "execution_count": 12,
   "metadata": {},
   "outputs": [],
   "source": [
    "# Чтобы написать тест, мы должны определить функцию, имя которой начинается на test_  \n",
    "# после этого мы используем ключевое слово assert, которое проверят, является ли истинным значение сразу за ним  \n",
    "def test_something():  \n",
    "    assert True  \n",
    "      \n",
    "def test_equal_string():  \n",
    "    greetings = \"Hello, \" +  \"world\"  \n",
    "    assert greetings == \"Hello, world\"  \n",
    "  \n",
    "def test_numbers():  \n",
    "    total = 73 + 42  \n",
    "    assert total == 115  \n",
    "  \n",
    "# После этого мы запускаем код с помощью pytest из консоли  \n",
    "# >> pytest basic_test.py  \n",
    "# ============================= test session starts ==============================  \n",
    "# collected 3 items                                                                \n",
    "  \n",
    "# basic_test.py ...                                                        [100%]  \n",
    "  \n",
    "# =========================== 3 passed in 0.03 seconds ===========================  "
   ]
  },
  {
   "cell_type": "markdown",
   "metadata": {},
   "source": [
    "У нас две проблемы с данными в столбце:\n",
    "\n",
    "- численные данные заведены **строкой**, так что мы не можем выполнять арифметические операции;\n",
    "- в данных есть **пропуски**, например, не у всех фильмов есть оценка с `metascore`.\n",
    "\n",
    "Напишем и протестируем функцию, которая это исправляет. Все тесты проходят, всё корректно работает:"
   ]
  },
  {
   "cell_type": "code",
   "execution_count": 13,
   "metadata": {},
   "outputs": [],
   "source": [
    "# Функция, которая обращает все строки в числа и подставляет значение по умолчанию, если встречает пропуск.  \n",
    "def digitize_values(collection, default=0):  \n",
    "    no_missed = [value if value else default for value in collection]   \n",
    "    return [float(value) for value in no_missed]  \n",
    "  \n",
    "# Мы передаём на вход произвольные параметры и смотрим, что функция корректно работает с ними   \n",
    "# Проверим, что функция корректно обращает список строк в список чисел  \n",
    "def test_digitize_convert_to_float():  \n",
    "    assert digitize_values([\"10\", \"50\"])  == [10, 50]  \n",
    "    assert digitize_values([\"70.2\", \"33.4\"]) == [70.2, 33.4]  \n",
    "      \n",
    "# Хорошей практикой считается покрывать разные аспекты функции в разных тестах  \n",
    "# Здесь мы проверим, что функция закрывает пропуски   \n",
    "def test_digitize_restore_missed():  \n",
    "    assert digitize_values([\"\"], 10) == [10]  \n",
    "    assert digitize_values([\"20\", None], 50) == [20, 50]  \n",
    "      \n",
    "# Ещё стоит проверять, что наша функция корректно работает на граничных значениях  \n",
    "# Например, на пустых данных  \n",
    "def test_digitize_empty():  \n",
    "    assert digitize_values([]) == []  \n",
    "      \n",
    "# Запустим тесты  \n",
    "# >>> pytest digitize.py  \n",
    "# ============================= test session starts ==============================  \n",
    "# collected 3 items                                                                \n",
    "  \n",
    "# digitize.py ...                                                          [100%]  \n",
    "  \n",
    "# =========================== 3 passed in 0.04 seconds ===========================  "
   ]
  },
  {
   "cell_type": "code",
   "execution_count": 14,
   "metadata": {},
   "outputs": [
    {
     "name": "stdout",
     "output_type": "stream",
     "text": [
      "\u001b[1m============================= test session starts ==============================\u001b[0m\r\n",
      "platform linux -- Python 3.8.3, pytest-5.4.3, py-1.9.0, pluggy-0.13.1\r\n",
      "rootdir: /home/dell/py_test_debug\r\n",
      "\u001b[1mcollecting ... \u001b[0m\u001b[1m\r",
      "collected 0 items                                                              \u001b[0m\r\n",
      "\r\n",
      "\u001b[33m============================ \u001b[33mno tests ran\u001b[0m\u001b[33m in 0.00s\u001b[0m\u001b[33m =============================\u001b[0m\r\n",
      "\u001b[31mERROR: file not found: digitize.py\r\n",
      "\u001b[0m\r\n"
     ]
    }
   ],
   "source": [
    "!pytest digitize.py"
   ]
  },
  {
   "cell_type": "code",
   "execution_count": 15,
   "metadata": {},
   "outputs": [
    {
     "name": "stdout",
     "output_type": "stream",
     "text": [
      "\u001b[1m============================= test session starts ==============================\u001b[0m\r\n",
      "platform linux -- Python 3.8.3, pytest-5.4.3, py-1.9.0, pluggy-0.13.1\r\n",
      "rootdir: /home/dell/py_test_debug\r\n",
      "\u001b[1mcollecting ... \u001b[0m\u001b[1m\r",
      "collected 0 items                                                              \u001b[0m\r\n",
      "\r\n",
      "\u001b[33m============================ \u001b[33mno tests ran\u001b[0m\u001b[33m in 0.00s\u001b[0m\u001b[33m =============================\u001b[0m\r\n",
      "\u001b[31mERROR: file not found: basic_test.py\r\n",
      "\u001b[0m\r\n"
     ]
    }
   ],
   "source": [
    "!pytest basic_test.py"
   ]
  },
  {
   "cell_type": "markdown",
   "metadata": {},
   "source": [
    "### Задание\n",
    "У нас есть четыре функции. Какие из них являются корректными тестами в pytest?\n",
    "\n",
    "Ответ: 2, 3"
   ]
  },
  {
   "cell_type": "markdown",
   "metadata": {},
   "source": [
    "### 17. Типы тестов\n",
    "Тесты, которые мы написали в предыдущем блоке, называются unit-тестами, потому что они проверяют отдельный блок. Они помогают проверить работу отдельных функций, но остаётся вопрос: корректно ли функции взаимодействуют друг с другом. Для этого есть ещё два типа тестов: интеграционный и приёмочный.\n",
    "\n",
    "Интеграционные тесты проверяют, что отдельные функции корректно обмениваются данными. Это подобно проверке того, что USB-провод входит в USB-порт. Приёмочные тесты проверяют код в контексте пользователя, например, автоматически прокликивая программу или веб-приложение на популярных сценариях использования продукта.\n",
    "\n",
    "Тестирование — большая область; есть отдельные курсы на эту тему и даже отдельная профессия QA-инженер, который занимается исключительно тестированием. Мы надеемся, что у вас появилось общее представление о том, зачем нужны тесты и как их делать. Более подробное введение в тестирование есть в книгах Гарри Персиваля и Брайана Оккена."
   ]
  },
  {
   "cell_type": "markdown",
   "metadata": {},
   "source": [
    "### Задание\n",
    "Зачем нужны интеграционные тесты?\n",
    "\n",
    "Ответ:  Проверять, что функции корректно работают друг с другом. "
   ]
  },
  {
   "cell_type": "code",
   "execution_count": null,
   "metadata": {},
   "outputs": [],
   "source": []
  }
 ],
 "metadata": {
  "kernelspec": {
   "display_name": "Python 3",
   "language": "python",
   "name": "python3"
  },
  "language_info": {
   "codemirror_mode": {
    "name": "ipython",
    "version": 3
   },
   "file_extension": ".py",
   "mimetype": "text/x-python",
   "name": "python",
   "nbconvert_exporter": "python",
   "pygments_lexer": "ipython3",
   "version": "3.8.3"
  }
 },
 "nbformat": 4,
 "nbformat_minor": 4
}
